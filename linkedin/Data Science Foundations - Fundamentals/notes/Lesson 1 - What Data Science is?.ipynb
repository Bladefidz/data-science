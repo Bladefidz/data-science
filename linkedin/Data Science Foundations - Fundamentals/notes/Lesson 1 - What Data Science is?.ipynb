{
 "cells": [
  {
   "cell_type": "markdown",
   "metadata": {},
   "source": [
    "# What Data Science is?"
   ]
  },
  {
   "cell_type": "markdown",
   "metadata": {},
   "source": [
    "Data science is the field that joins statistics and programming in applied settings. In fact, data science are:\n",
    "\n",
    "- High demand for data science: McKinsey projected at 2018 140,000-150,000 analytical talent position in the USA and 1.5 million data-savvy managers are needed.\n",
    "- Need for specialist and generalist.\n",
    "- Execelent pay: $144,000 annually in the USA."
   ]
  },
  {
   "cell_type": "markdown",
   "metadata": {},
   "source": [
    "## Data Science Venn Diagram"
   ]
  },
  {
   "cell_type": "markdown",
   "metadata": {},
   "source": [
    "People who quelifed as data scientist have:\n",
    "\n",
    "- Combined skills: Hacking, math & statistics, and domain expertise.\n",
    "- Diverse skill: Machine learning engineer/scientist, researcher, and hacker.\n",
    "- Many roles: From programmer to management."
   ]
  },
  {
   "cell_type": "markdown",
   "metadata": {},
   "source": [
    "![Data Science Venn Diagram](images/data-science-venn.png)"
   ]
  },
  {
   "cell_type": "markdown",
   "metadata": {},
   "source": [
    "More information, please visit [Drew Conway's article](http://drewconway.com/zia/2013/3/26/the-data-science-venn-diagram)."
   ]
  },
  {
   "cell_type": "markdown",
   "metadata": {},
   "source": [
    "## The Data Science Pipeline"
   ]
  },
  {
   "cell_type": "markdown",
   "metadata": {},
   "source": [
    "1. **Planning**: Define goals, organize resources, coordinate people, and schedule project.\n",
    "2. **Data Preparation**: Get data, clean data, explore data, and refine data.\n",
    "3. **Modeling**: Create model, validate model, evaluate model, and refine model.\n",
    "4. **Followup**: Present model, deploy model, revisi model, and revisit model."
   ]
  },
  {
   "cell_type": "markdown",
   "metadata": {},
   "source": [
    "## Roles"
   ]
  },
  {
   "cell_type": "markdown",
   "metadata": {},
   "source": [
    "- **Engineer / Developer**: People who focus on hardware and software, includes: Data engineer, database administrators.\n",
    "- **Bug Data Specialist**: People who have computer science + mathematics background, and also understand machine learning.\n",
    "- **Researcher**: People who have domain-specific and statistical epertise.\n",
    "- **Analyst**: People who did daily activity, such as web analytics, SQL query, and visualization.\n",
    "- **Business Executive**: People who manage data science projects and frame business-relevant questions and solutions. And also know about 'data'.\n",
    "- **Entrepreneur**: People who founded data-based startups, planning and execution the business projects.\n",
    "- **Full-stack Data Scienctist**: People who have multi roles form content espertise + hacking + statistics. They called as \"unicorn\"."
   ]
  },
  {
   "cell_type": "markdown",
   "metadata": {},
   "source": [
    "## Data Science Teams"
   ]
  },
  {
   "cell_type": "markdown",
   "metadata": {},
   "source": [
    "The \"Unicorn\" is magical creature that does not exist anymore, but we can built a unicorn from very solid teammate!"
   ]
  }
 ],
 "metadata": {
  "kernelspec": {
   "display_name": "Python 3.6",
   "language": "python",
   "name": "python_3.6"
  },
  "language_info": {
   "codemirror_mode": {
    "name": "ipython",
    "version": 3
   },
   "file_extension": ".py",
   "mimetype": "text/x-python",
   "name": "python",
   "nbconvert_exporter": "python",
   "pygments_lexer": "ipython3",
   "version": "3.6.5"
  }
 },
 "nbformat": 4,
 "nbformat_minor": 2
}
