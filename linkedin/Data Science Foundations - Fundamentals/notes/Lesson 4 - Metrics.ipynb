{
 "cells": [
  {
   "cell_type": "markdown",
   "metadata": {},
   "source": [
    "# Metrics"
   ]
  },
  {
   "cell_type": "markdown",
   "metadata": {},
   "source": [
    "Data science is Action-Oriented, explicit, benefits for both client and analyst (you)."
   ]
  },
  {
   "cell_type": "markdown",
   "metadata": {},
   "source": [
    "## Choosing metrics"
   ]
  },
  {
   "cell_type": "markdown",
   "metadata": {},
   "source": [
    "- **Key Performance Indicator (KPIs)**: Non-financial, timely, CEO focus, simple, team-based, and significant impact.\n",
    "- **SMART (Specific, Measurable, Assignable, Realistic, Time-bound)** goals. \n",
    "- **Classification accuracy**: Simply matrix that includes Sensitivity, Specificity, Positive predictive value (PPV), and Negative predictive value (NPV)."
   ]
  },
  {
   "cell_type": "markdown",
   "metadata": {},
   "source": [
    "## Existing data"
   ]
  },
  {
   "cell_type": "markdown",
   "metadata": {},
   "source": [
    "1. **In-house data**\n",
    "    - Pros:\n",
    "        - Fast, easy, and may be free.\n",
    "        - Standardized formatting.\n",
    "        - Original team whom produce the data still available.\n",
    "        - Know the indentities.\n",
    "    - Cons:\n",
    "        - Nonexistent data.\n",
    "        - Inadequate documentation.\n",
    "        - Uncertinty of quality reliability.\n",
    "2. **Open data**\n",
    "    - Pros:\n",
    "        - Terabyte data sets.\n",
    "        - Wide range.\n",
    "        - Well-formatted.\n",
    "        - Well-documented.\n",
    "    - Cons:\n",
    "        - Biased samples.\n",
    "        - Meaning unclear.\n",
    "        - Sharing.\n",
    "        - Privacy and confidentiality.\n",
    "3. **Third-party data**:\n",
    "    - Pros:\n",
    "        - Save time and effort.\n",
    "        - Indivdual-level data.\n",
    "        - Summaries and inferences.\n",
    "    - Cons:\n",
    "        - Expensive.\n",
    "        - Require validation.\n",
    "        - Distasteful."
   ]
  },
  {
   "cell_type": "markdown",
   "metadata": {},
   "source": [
    "## APIs"
   ]
  },
  {
   "cell_type": "markdown",
   "metadata": {},
   "source": [
    "Application Programming Interface (API). Most common is REST API via HTTP access and get the JSON formatted data."
   ]
  }
 ],
 "metadata": {
  "kernelspec": {
   "display_name": "Python 3.6",
   "language": "python",
   "name": "python_3.6"
  },
  "language_info": {
   "codemirror_mode": {
    "name": "ipython",
    "version": 3
   },
   "file_extension": ".py",
   "mimetype": "text/x-python",
   "name": "python",
   "nbconvert_exporter": "python",
   "pygments_lexer": "ipython3",
   "version": "3.6.5"
  }
 },
 "nbformat": 4,
 "nbformat_minor": 2
}
